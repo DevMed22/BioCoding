{
 "cells": [
  {
   "cell_type": "code",
   "execution_count": 35,
   "id": "e249aa2f",
   "metadata": {},
   "outputs": [],
   "source": [
    "import numpy as np\n",
    "import pandas as pd\n",
    "import colorama\n",
    "from colorama import Fore"
   ]
  },
  {
   "cell_type": "code",
   "execution_count": 36,
   "id": "997d455d",
   "metadata": {},
   "outputs": [],
   "source": [
    "seqq=\"GCCTCTGGTATGCTTCCCT\"\n",
    "seq = \"GCCTCTGGTATGCTTCCCTGCTTGATGATTGCGGAAACCGTAACCCTACAAGGCAGGACGATGCTAGAAAAAACCAAGCAGTTTGTGGAGAATGTGACTGTGGACTATTTACAAAAAATCTGCAACTAATGTTCCGTGCCTGCCGCTGCACCCAAATCCCAAGTTTAGGGTGCG\""
   ]
  },
  {
   "cell_type": "code",
   "execution_count": 37,
   "id": "12594ef8",
   "metadata": {},
   "outputs": [
    {
     "name": "stdout",
     "output_type": "stream",
     "text": [
      "0.5789473684210527\n"
     ]
    }
   ],
   "source": [
    "def GC_Content(seqq):\n",
    "    l=len(seqq)\n",
    "    num_G=seqq.count(\"G\")\n",
    "    num_C=seqq.count(\"C\")\n",
    "    total=num_C+num_G\n",
    "    return total/l\n",
    "print(GC_Content(seqq))"
   ]
  },
  {
   "cell_type": "code",
   "execution_count": 40,
   "id": "ebaf2f9c",
   "metadata": {},
   "outputs": [
    {
     "name": "stdout",
     "output_type": "stream",
     "text": [
      " CGGAGACCATACGAAGGGA\n"
     ]
    }
   ],
   "source": [
    "def Complement(seqq):\n",
    "    comp = \" \"\n",
    "    for i in seqq:\n",
    "        if (i==\"A\"):\n",
    "            comp= comp +\"T\"\n",
    "        if (i==\"T\"):\n",
    "            comp= comp +\"A\"\n",
    "        if (i==\"C\"):\n",
    "            comp= comp +\"G\"\n",
    "        if (i==\"G\"):\n",
    "            comp= comp +\"C\"\n",
    "    return comp\n",
    "complementSeq = Complement(seqq)\n",
    "print(complementSeq)"
   ]
  },
  {
   "cell_type": "code",
   "execution_count": 7,
   "id": "89e12118",
   "metadata": {},
   "outputs": [
    {
     "name": "stdout",
     "output_type": "stream",
     "text": [
      "TCCCTTCGTATGGTCTCCG\n"
     ]
    }
   ],
   "source": [
    "def Reverse(seqq):\n",
    "    return seqq[::-1]\n",
    "print (Reverse(seqq))"
   ]
  },
  {
   "cell_type": "code",
   "execution_count": 8,
   "id": "6296b4eb",
   "metadata": {},
   "outputs": [
    {
     "name": "stdout",
     "output_type": "stream",
     "text": [
      "AGGGAAGCATACCAGAGGC \n"
     ]
    }
   ],
   "source": [
    "def reverseComplement(complementSeq):\n",
    "    return complementSeq[::-1]\n",
    "reverseComplementSeq = reverseComplement(complementSeq)\n",
    "print(reverseComplementSeq)"
   ]
  },
  {
   "cell_type": "code",
   "execution_count": 9,
   "id": "1cfcddca",
   "metadata": {},
   "outputs": [
    {
     "name": "stdout",
     "output_type": "stream",
     "text": [
      "('ASGMLPCLMIAETVTLQ', 'MLPCLMIAETVTLQ')\n"
     ]
    }
   ],
   "source": [
    "def Translation_Table(seq):\n",
    "    dic = {\"TTT\" : \"F\", \"CTT\" : \"L\", \"ATT\" : \"I\", \"GTT\" : \"V\",\n",
    "           \"TTC\" : \"F\", \"CTC\" : \"L\", \"ATC\" : \"I\", \"GTC\" : \"V\",\n",
    "           \"TTA\" : \"L\", \"CTA\" : \"L\", \"ATA\" : \"I\", \"GTA\" : \"V\",\n",
    "           \"TTG\" : \"L\", \"CTG\" : \"L\", \"ATG\" : \"M\", \"GTG\" : \"V\",\n",
    "           \"TCT\" : \"S\", \"CCT\" : \"P\", \"ACT\" : \"T\", \"GCT\" : \"A\",\n",
    "           \"TCC\" : \"S\", \"CCC\" : \"P\", \"ACC\" : \"T\", \"GCC\" : \"A\",\n",
    "           \"TCA\" : \"S\", \"CCA\" : \"P\", \"ACA\" : \"T\", \"GCA\" : \"A\",\n",
    "           \"TCG\" : \"S\", \"CCG\" : \"P\", \"ACG\" : \"T\", \"GCG\" : \"A\",\n",
    "           \"TAT\" : \"Y\", \"CAT\" : \"H\", \"AAT\" : \"N\", \"GAT\" : \"D\",\n",
    "           \"TAC\" : \"Y\", \"CAC\" : \"H\", \"AAC\" : \"N\", \"GAC\" : \"D\",\n",
    "           \"TAA\" : \"*\", \"CAA\" : \"Q\", \"AAA\" : \"K\", \"GAA\" : \"E\",\n",
    "           \"TAG\" : \"*\", \"CAG\" : \"Q\", \"AAG\" : \"K\", \"GAG\" : \"E\",\n",
    "           \"TGT\" : \"C\", \"CGT\" : \"R\", \"AGT\" : \"S\", \"GGT\" : \"G\",\n",
    "           \"TGC\" : \"C\", \"CGC\" : \"R\", \"AGC\" : \"S\", \"GGC\" : \"G\",\n",
    "           \"TGA\" : \"*\", \"CGA\" : \"R\", \"AGA\" : \"R\", \"GGA\" : \"G\",\n",
    "           \"TGG\" : \"W\", \"CGG\" : \"R\", \"AGG\" : \"R\", \"GGG\" : \"G\" \n",
    "           }\n",
    "    s=\"\"\n",
    "    sf=\"\"\n",
    "    flag=0\n",
    "    for i in range(0,len(seq)-2,3):\n",
    "        if dic[seq[i:i+3]]==\"M\":\n",
    "            flag=1\n",
    "        elif (dic[seq[i:i+3]]==\"*\"):\n",
    "            flag=0\n",
    "        if flag==1:\n",
    "            s+=dic[seq[i:i+3]]\n",
    "        sf+=dic[seq[i:i+3]]\n",
    "    return sf,s   \n",
    "s=\"GCCTCTGGTATGCTTCCCTGCTTGATGATTGCGGAAACCGTAACCCTACAAG\"\n",
    "print(Translation_Table(s))"
   ]
  },
  {
   "cell_type": "code",
   "execution_count": 10,
   "id": "9c238742",
   "metadata": {},
   "outputs": [
    {
     "name": "stdout",
     "output_type": "stream",
     "text": [
      "ASGMLPCLMIAETVTLQGRTMLEKTKQFVENVTVDYLQKICNCSVPAAAPKSQVGA\n"
     ]
    }
   ],
   "source": [
    "def translation(seq):\n",
    "    dic = {\"TTT\" : \"F\", \"CTT\" : \"L\", \"ATT\" : \"I\", \"GTT\" : \"V\",\n",
    "           \"TTC\" : \"F\", \"CTC\" : \"L\", \"ATC\" : \"I\", \"GTC\" : \"V\",\n",
    "           \"TTA\" : \"L\", \"CTA\" : \"L\", \"ATA\" : \"I\", \"GTA\" : \"V\",\n",
    "           \"TTG\" : \"L\", \"CTG\" : \"L\", \"ATG\" : \"M\", \"GTG\" : \"V\",\n",
    "           \"TCT\" : \"S\", \"CCT\" : \"P\", \"ACT\" : \"T\", \"GCT\" : \"A\",\n",
    "           \"TCC\" : \"S\", \"CCC\" : \"P\", \"ACC\" : \"T\", \"GCC\" : \"A\",\n",
    "           \"TCA\" : \"S\", \"CCA\" : \"P\", \"ACA\" : \"T\", \"GCA\" : \"A\",\n",
    "           \"TCG\" : \"S\", \"CCG\" : \"P\", \"ACG\" : \"T\", \"GCG\" : \"A\",\n",
    "           \"TAT\" : \"Y\", \"CAT\" : \"H\", \"AAT\" : \"N\", \"GAT\" : \"D\",\n",
    "           \"TAC\" : \"Y\", \"CAC\" : \"H\", \"AAC\" : \"N\", \"GAC\" : \"D\",\n",
    "           \"TAA\" : \"*\", \"CAA\" : \"Q\", \"AAA\" : \"K\", \"GAA\" : \"E\",\n",
    "           \"TAG\" : \"*\", \"CAG\" : \"Q\", \"AAG\" : \"K\", \"GAG\" : \"E\",\n",
    "           \"TGT\" : \"C\", \"CGT\" : \"R\", \"AGT\" : \"S\", \"GGT\" : \"G\",\n",
    "           \"TGC\" : \"C\", \"CGC\" : \"R\", \"AGC\" : \"S\", \"GGC\" : \"G\",\n",
    "           \"TGA\" : \"*\", \"CGA\" : \"R\", \"AGA\" : \"R\", \"GGA\" : \"G\",\n",
    "           \"TGG\" : \"W\", \"CGG\" : \"R\", \"AGG\" : \"R\", \"GGG\" : \"G\" \n",
    "           }\n",
    "    x = ''\n",
    "    for i in range(0,len(seq),3):\n",
    "        if dic[seq[i:i+3]]!=\"*\":\n",
    "            x = x + dic[seq[i:i+3]]\n",
    "    return x\n",
    "print(translation(seq))"
   ]
  },
  {
   "cell_type": "code",
   "execution_count": 11,
   "id": "067bcddc",
   "metadata": {},
   "outputs": [],
   "source": [
    "####################SEC2,3###################"
   ]
  },
  {
   "cell_type": "code",
   "execution_count": 12,
   "id": "cbea1c50",
   "metadata": {},
   "outputs": [],
   "source": [
    "import numpy as np\n",
    "import time\n"
   ]
  },
  {
   "cell_type": "code",
   "execution_count": 13,
   "id": "2b016d47",
   "metadata": {},
   "outputs": [],
   "source": [
    "seq1=\"ACGTTCGAC\"\n",
    "sub_seq= \"ACGTTCGAC\""
   ]
  },
  {
   "cell_type": "code",
   "execution_count": 14,
   "id": "81eb51b5",
   "metadata": {},
   "outputs": [
    {
     "name": "stdout",
     "output_type": "stream",
     "text": [
      "0\n"
     ]
    }
   ],
   "source": [
    "def match(seq1,sub_seq):\n",
    "    x=-1\n",
    "    for i in range(len(seq1)-len(sub_seq)+1):\n",
    "        if sub_seq==seq1[i:i+len(sub_seq)]:\n",
    "            x=i\n",
    "    return x\n",
    "print(match(seq1,sub_seq))"
   ]
  },
  {
   "cell_type": "code",
   "execution_count": 15,
   "id": "6ad6e558",
   "metadata": {},
   "outputs": [
    {
     "name": "stdout",
     "output_type": "stream",
     "text": [
      "0\n"
     ]
    }
   ],
   "source": [
    "def Badchars(seq1,sub_seq):\n",
    "    table=np.zeros([4,len(sub_seq)])     \n",
    "    row=[\"C\",\"G\",\"A\",\"T\"]\n",
    "    for i in range (4):\n",
    "        num=-1\n",
    "        for j in range (len(sub_seq)):\n",
    "            if row[i]==sub_seq[j]:\n",
    "                table[i,j]=-1\n",
    "                num=-1\n",
    "            else:\n",
    "                num+=1\n",
    "                table[i,j]=num\n",
    "    x=-1\n",
    "    i=0\n",
    "    while(i<len(seq1)-len(sub_seq)+1):\n",
    "        if sub_seq==seq1[i:i+len(sub_seq)]:\n",
    "            x=i\n",
    "        else:\n",
    "            for j in range(i+len(sub_seq)-1,i-1,-1):\n",
    "                if seq1[j] != sub_seq[int(j-i)]:\n",
    "                    k=row.index(seq[j])\n",
    "                    i+=table[k,j-i]\n",
    "                    break\n",
    "        i=int(i+1)\n",
    "    return x\n",
    "print(Badchars(seq1,sub_seq))"
   ]
  },
  {
   "cell_type": "code",
   "execution_count": 16,
   "id": "d1b8192c",
   "metadata": {},
   "outputs": [],
   "source": [
    "###################################SEC4#################"
   ]
  },
  {
   "cell_type": "code",
   "execution_count": 18,
   "id": "119c6bc2",
   "metadata": {},
   "outputs": [],
   "source": [
    "import numpy as np\n",
    "import bisect\n",
    "\n",
    "seq=\"GCAGGGGGCGGAAACTTGGAGGCACCCAGGAATTTCACCCGGGTCGACCTGGGCGGCTAGGAGCCGT\"\n",
    "ln=3"
   ]
  },
  {
   "cell_type": "code",
   "execution_count": 19,
   "id": "f90041ea",
   "metadata": {},
   "outputs": [
    {
     "name": "stdout",
     "output_type": "stream",
     "text": [
      "[('AAA', 11), ('AAC', 12), ('AAT', 30), ('ACC', 23), ('ACC', 36), ('ACC', 46), ('ACT', 13), ('AGC', 61), ('AGG', 2), ('AGG', 19), ('AGG', 27), ('AGG', 58), ('ATT', 31), ('CAC', 22), ('CAC', 35), ('CAG', 1), ('CAG', 26), ('CCA', 25), ('CCC', 24), ('CCC', 37), ('CCG', 38), ('CCG', 63), ('CCT', 47), ('CGA', 44), ('CGG', 8), ('CGG', 39), ('CGG', 53), ('CGT', 64), ('CTA', 56), ('CTG', 48), ('CTT', 14), ('GAA', 10), ('GAA', 29), ('GAC', 45), ('GAG', 18), ('GAG', 60), ('GCA', 0), ('GCA', 21), ('GCC', 62), ('GCG', 7), ('GCG', 52), ('GCT', 55), ('GGA', 9), ('GGA', 17), ('GGA', 28), ('GGA', 59), ('GGC', 6), ('GGC', 20), ('GGC', 51), ('GGC', 54), ('GGG', 3), ('GGG', 4), ('GGG', 5), ('GGG', 40), ('GGG', 50), ('GGT', 41), ('GTC', 42), ('TAG', 57), ('TCA', 34), ('TCG', 43), ('TGG', 16), ('TGG', 49), ('TTC', 33), ('TTG', 15), ('TTT', 32)]\n"
     ]
    }
   ],
   "source": [
    "def IndexSorted(seq,ln):\n",
    "    index = []\n",
    "    for i in range(len(seq)-ln+1):\n",
    "        index.append((seq[i:i+ln], i))\n",
    "    index.sort() \n",
    "    return index\n",
    "print(IndexSorted(seq,ln))"
   ]
  },
  {
   "cell_type": "code",
   "execution_count": 20,
   "id": "bf9e76d1",
   "metadata": {},
   "outputs": [
    {
     "name": "stdout",
     "output_type": "stream",
     "text": [
      "[('GCA', 0), ('GCA', 21)]\n",
      "[]\n"
     ]
    }
   ],
   "source": [
    "t=seq[1][0:-1]\n",
    "p=\"GCA\"\n",
    "def query(t,p,index):\n",
    "    keys = [r[0] for r in index]\n",
    "    st = bisect.bisect_left(keys,p[:len(keys[0])])\n",
    "    \n",
    "    en = bisect.bisect(keys,p[:len(keys[0])])\n",
    "    hits = index[st:en] \n",
    "    print(hits)\n",
    "    l=[h[1] for h in hits ]\n",
    "    offsets=[]\n",
    "    for i in l:\n",
    "        if t[i:i+len(p)]==p:\n",
    "            offsets.append(i)\n",
    "    return offsets\n",
    "index=IndexSorted(seq,ln)\n",
    "print(query(t,p,index))"
   ]
  },
  {
   "cell_type": "code",
   "execution_count": 21,
   "id": "2d09fe97",
   "metadata": {},
   "outputs": [],
   "source": [
    "###########################SEC5#############"
   ]
  },
  {
   "cell_type": "code",
   "execution_count": 22,
   "id": "3bfb34fb",
   "metadata": {},
   "outputs": [],
   "source": [
    "import numpy as np\n",
    "from itertools import permutations\n"
   ]
  },
  {
   "cell_type": "code",
   "execution_count": 25,
   "id": "e20ea376",
   "metadata": {},
   "outputs": [
    {
     "name": "stdout",
     "output_type": "stream",
     "text": [
      "3\n"
     ]
    }
   ],
   "source": [
    "def overlap(a,b,min_length=3):\n",
    "    start=0\n",
    "    while True:\n",
    "        start=a.find(b[:min_length],start)\n",
    "        if start==-1:\n",
    "            return 0\n",
    "        if b.startswith(a[start:]):\n",
    "            return len(a[start:])\n",
    "        start+=1\n",
    "print(overlap(a,b,min_length=3))"
   ]
  },
  {
   "cell_type": "code",
   "execution_count": 24,
   "id": "11a341a8",
   "metadata": {},
   "outputs": [
    {
     "name": "stdout",
     "output_type": "stream",
     "text": [
      "overlap: 3\n"
     ]
    }
   ],
   "source": [
    "a=\"ACGGTA\" \n",
    "b=\"GTAGTA\"\n",
    "min_len=3\n",
    "j=len(a)-1\n",
    "count=0\n",
    "for i in range(len(b)-1,-1,-1):\n",
    "    if a[j]==b[i]:\n",
    "        count+=1\n",
    "        j-=1\n",
    "    else:\n",
    "        count=0\n",
    "        j=len(a)-1\n",
    "        if a[j]==b[i]:\n",
    "            count+=1\n",
    "            j-=1\n",
    "if count>=min_len:\n",
    "    print('overlap:',count)\n",
    "else:\n",
    "    print(\"no overlap\")"
   ]
  },
  {
   "cell_type": "code",
   "execution_count": 26,
   "id": "1ace17ee",
   "metadata": {},
   "outputs": [],
   "source": [
    "#####################SEC6################"
   ]
  },
  {
   "cell_type": "code",
   "execution_count": 27,
   "id": "53f5e399",
   "metadata": {},
   "outputs": [
    {
     "name": "stdout",
     "output_type": "stream",
     "text": [
      "[['ACGACTACGATAAC$', 0, 3], ['CGACTACGATAAC$', 1, 8], ['GACTACGATAAC$', 2, 11], ['ACTACGATAAC$', 3, 5], ['CTACGATAAC$', 4, 10], ['TACGATAAC$', 5, 14], ['ACGATAAC$', 6, 4], ['CGATAAC$', 7, 9], ['GATAAC$', 8, 12], ['ATAAC$', 9, 6], ['TAAC$', 10, 13], ['AAC$', 11, 1], ['AC$', 12, 2], ['C$', 13, 7], ['$', 14, 0]]\n"
     ]
    }
   ],
   "source": [
    "T = 'ACGACTACGATAAC$'\n",
    "l=[]\n",
    "for i in range(len(T)):\n",
    "    l.append(T[i:])\n",
    "l2=l.copy()\n",
    "l.sort()\n",
    "dec={}\n",
    "for i in range(len(l)):\n",
    "    dec[l[i]]=i\n",
    "table=[]\n",
    "for i in range(len(l)):\n",
    "    table.append([l2[i],i,dec[l2[i]]])\n",
    "print(table)"
   ]
  },
  {
   "cell_type": "code",
   "execution_count": 28,
   "id": "8d37ad0e",
   "metadata": {},
   "outputs": [],
   "source": [
    "############################SEC7##############################"
   ]
  },
  {
   "cell_type": "code",
   "execution_count": 29,
   "id": "97893a9d",
   "metadata": {},
   "outputs": [],
   "source": [
    "seq=\"ATGTGTG\"\n",
    "tag=3\n",
    "dic={}\n",
    "for i in range(0,len(seq)-tag):\n",
    "    dic[seq[i:i+tag]]=dic.get(seq[i:i+tag],0)+1"
   ]
  },
  {
   "cell_type": "code",
   "execution_count": 30,
   "id": "000d3a6f",
   "metadata": {},
   "outputs": [],
   "source": [
    "seq2=\"CATGTG\"\n",
    "dic2={}\n",
    "for i in range(0,len(seq2)-tag):\n",
    "    dic2[seq2[i:i+tag]]=dic2.get(seq2[i:i+tag],0)+1"
   ]
  },
  {
   "cell_type": "code",
   "execution_count": 31,
   "id": "0bbf4d28",
   "metadata": {},
   "outputs": [
    {
     "name": "stdout",
     "output_type": "stream",
     "text": [
      "distance between two dna sequences =  1.7320508075688772\n"
     ]
    }
   ],
   "source": [
    "k=list(dic.keys())\n",
    "for i in range(len(k)):\n",
    "    dic2[k[i]]=(dic2.get(k[i],0)-dic[k[i]])\n",
    "d=list(dic2.values())\n",
    "Sum=0\n",
    "for i in range(len(d)):\n",
    "    Sum+=d[i]**2\n",
    "distance=Sum**(0.5)\n",
    "print(\"distance between two dna sequences = \",distance)"
   ]
  },
  {
   "cell_type": "code",
   "execution_count": 32,
   "id": "21e53430",
   "metadata": {},
   "outputs": [],
   "source": [
    "#########################SEC8#############"
   ]
  },
  {
   "cell_type": "code",
   "execution_count": null,
   "id": "ef7ecba2",
   "metadata": {},
   "outputs": [],
   "source": []
  }
 ],
 "metadata": {
  "kernelspec": {
   "display_name": "Python 3",
   "language": "python",
   "name": "python3"
  },
  "language_info": {
   "codemirror_mode": {
    "name": "ipython",
    "version": 3
   },
   "file_extension": ".py",
   "mimetype": "text/x-python",
   "name": "python",
   "nbconvert_exporter": "python",
   "pygments_lexer": "ipython3",
   "version": "3.8.8"
  }
 },
 "nbformat": 4,
 "nbformat_minor": 5
}
